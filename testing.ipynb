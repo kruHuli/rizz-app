{
 "cells": [
  {
   "cell_type": "code",
   "execution_count": 2,
   "id": "b0d3c7d9-4a1f-4a59-822b-3f10eefb7162",
   "metadata": {},
   "outputs": [],
   "source": [
    "from logic import analyze_intent, generate_strategy, compose_replies, determine_temps, detect_red_flags\n"
   ]
  },
  {
   "cell_type": "code",
   "execution_count": 10,
   "id": "45b3a9fd-404d-4542-aa0a-5a52cdf93bff",
   "metadata": {},
   "outputs": [
    {
     "name": "stdout",
     "output_type": "stream",
     "text": [
      "==================================================\n",
      "What do you want to do?\n",
      "1. Generate reply to a message\n",
      "2. Rank my dating profile (Coming Soon)\n",
      "3. Generate a Hinge prompt (Coming Soon)\n",
      "4. Build a conversation context (Coming Soon)\n",
      "==================================================\n"
     ]
    },
    {
     "name": "stdin",
     "output_type": "stream",
     "text": [
      "Enter 1–4:  1\n",
      "Enter her message:\n",
      " whatsup bitch! i miss yaaa\n"
     ]
    },
    {
     "name": "stdout",
     "output_type": "stream",
     "text": [
      "\n",
      "============================================================\n",
      "📝 Original Message:\n",
      " whatsup bitch! i miss yaaa\n",
      "📊 INTENT ANALYSIS (Temp: 0.2):\n",
      " ## Message Type\n",
      "Playful jab with flirtatious intent.\n",
      "\n",
      "## Likely Tone & Mindset\n",
      "Confident, playful, and seeking connection. She's likely comfortable with a direct, slightly edgy communication style.  She’s aiming for a lighthearted, potentially flirty interaction.\n",
      "\n",
      "## Subtext / Personality Clues\n",
      "The use of \"bitch\" is a significant indicator. While potentially intended playfully (common in younger demographics), it suggests she's comfortable with boundary-pushing communication and isn’t afraid to be assertive. The \"miss yaaa\" adds a layer of vulnerability mixed with playful exaggeration – she's fishing for a response and enjoys a bit of attention. This indicates a confident personality that isn’t afraid to initiate or lead the interaction.\n",
      "\n",
      "## Response Suggestion\n",
      "Acknowledge the playful tone and reciprocate with a similarly confident response. Something like, \"Miss you too, you little hellcat.\"  This validates her energy while matching it.\n",
      "\n",
      "## Spelling / Slang Notes\n",
      "\"Whatsup\" is a casual greeting, common in digital communication. \"Bitch\" here is likely not meant literally as an insult but rather as a term of endearment or playful familiarity within her social circle. The multiple \"a\"s in \"miss yaaa\" amplify the sentiment, emphasizing her desire for connection.\n",
      "\n",
      " 🚩 RED FLAG DETECTION:\n",
      " Here's an analysis of the message, evaluated through the provided framework:\n",
      "\n",
      "*   **Disrespectful language (\"bitch\"):** Contradicts respect & boundaries; suggests a lack of consideration for the other person.\n",
      "*   **Emotional Immaturity:** Overly casual & overly familiar tone; lacks emotional regulation, potentially indicating instability.\n",
      "*   **Attention-Seeking:** The exaggerated \"miss yaaa\" could be a performative attempt to elicit a reaction.\n",
      "*   **Accountability Avoidance:** The casualness deflects responsibility for maintaining the connection, hinting at potential avoidance.\n",
      "\n",
      "============================================================\n",
      "🎯 STRATEGY (Temp: 0.6):\n",
      "## Best Tone\n",
      "Flirty\n",
      "\n",
      "## Mirror tone\n",
      "Yes\n",
      "\n",
      "## Escalation of Flirtation\n",
      "Light teasing\n",
      "\n",
      "## Strategy Breakdown\n",
      "Mirroring her confident, slightly provocative tone builds rapport. The playful escalation acknowledges her communication style while subtly testing her boundaries.\n",
      "\n",
      "## Why This Works\n",
      "The mirroring strategy establishes a connection by reflecting her energy. The light teasing gauges her reaction to playful banter, offering insight into her comfort level with flirtation.\n",
      "\n",
      "## Ending Style\n",
      "Open-ended\n",
      "💬 REPLY OPTIONS (Temp: 0.85):\n",
      "Alright, let's craft some replies for Kruthik. Here are 3 options based on the strategy, assuming a generally engaged and confident vibe from the original message. We'll keep it flirty and escalate slightly with light teasing.\n",
      "\n",
      "1.  You know I miss *you*. What have you been up to, trouble? 😉\n",
      "2.  Bitch, you're speaking my language. What kind of mischief are we talking? 😈\n",
      "3.  Missin' the chaos. Hit me with your best offer. 😏\n",
      "============================================================\n"
     ]
    }
   ],
   "source": [
    "print(\"=\" * 50)\n",
    "print(\"What do you want to do?\")\n",
    "print(\"1. Generate reply to a message\")\n",
    "print(\"2. Rank my dating profile (Coming Soon)\")\n",
    "print(\"3. Generate a Hinge prompt (Coming Soon)\")\n",
    "print(\"4. Build a conversation context (Coming Soon)\")\n",
    "print(\"=\" * 50)\n",
    "\n",
    "choice = input(\"Enter 1–4: \").strip()\n",
    "\n",
    "if choice == \"1\":\n",
    "    msg = input(\"Enter her message:\\n\").strip()\n",
    "\n",
    "    # Step 1: Analyze intent\n",
    "    analysis = analyze_intent(msg, temp=0.2).strip()\n",
    "\n",
    "    # Step 2: Detect red flags\n",
    "    flags = detect_red_flags(msg).strip()\n",
    "\n",
    "    # Step 3: Display both\n",
    "    print(\"\\n\" + \"=\" * 60)\n",
    "    print(\"📝 Original Message:\\n\", msg)\n",
    "    print(\"📊 INTENT ANALYSIS (Temp: 0.2):\\n\", analysis)\n",
    "    print(\"\\n 🚩 RED FLAG DETECTION:\\n\", flags)\n",
    "\n",
    "    # Step 4: Get dynamic temperatures\n",
    "    strategy_temp, reply_temp = determine_temps(analysis)\n",
    "\n",
    "    # Step 5: Generate strategy with red flag context\n",
    "    \n",
    "    strategy = generate_strategy(analysis, flags, temp=strategy_temp).strip()\n",
    "\n",
    "    # Step 6: Generate reply\n",
    "    drafts = compose_replies(msg, strategy, temp=reply_temp).strip()\n",
    "\n",
    "    # Step 7: Print all results\n",
    "    print(\"\\n\" + \"=\" * 60)\n",
    "    print(\"🎯 STRATEGY (Temp: {}):\\n{}\".format(strategy_temp, strategy))\n",
    "    print(\"💬 REPLY OPTIONS (Temp: {}):\\n{}\".format(reply_temp, drafts))\n",
    "    print(\"=\" * 60)\n",
    "\n",
    "else:\n",
    "    print(\"🟡 This feature isn't built yet, but it's on the roadmap!\")\n"
   ]
  },
  {
   "cell_type": "code",
   "execution_count": null,
   "id": "224a439e-1502-450e-bf75-8951d4d5994e",
   "metadata": {},
   "outputs": [],
   "source": []
  }
 ],
 "metadata": {
  "kernelspec": {
   "display_name": "Python 3 (ipykernel)",
   "language": "python",
   "name": "python3"
  },
  "language_info": {
   "codemirror_mode": {
    "name": "ipython",
    "version": 3
   },
   "file_extension": ".py",
   "mimetype": "text/x-python",
   "name": "python",
   "nbconvert_exporter": "python",
   "pygments_lexer": "ipython3",
   "version": "3.12.7"
  }
 },
 "nbformat": 4,
 "nbformat_minor": 5
}
