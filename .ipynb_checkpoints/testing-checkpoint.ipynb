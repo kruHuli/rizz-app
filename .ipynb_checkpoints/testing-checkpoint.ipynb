{
 "cells": [
  {
   "cell_type": "code",
   "execution_count": 2,
   "id": "b0d3c7d9-4a1f-4a59-822b-3f10eefb7162",
   "metadata": {},
   "outputs": [],
   "source": [
    "from logic import analyze_intent, generate_strategy, compose_replies, determine_temps, detect_red_flags\n"
   ]
  },
  {
   "cell_type": "code",
   "execution_count": 3,
   "id": "45b3a9fd-404d-4542-aa0a-5a52cdf93bff",
   "metadata": {},
   "outputs": [
    {
     "name": "stdout",
     "output_type": "stream",
     "text": [
      "==================================================\n",
      "What do you want to do?\n",
      "1. Generate reply to a message\n",
      "2. Rank my dating profile (Coming Soon)\n",
      "3. Generate a Hinge prompt (Coming Soon)\n",
      "4. Build a conversation context (Coming Soon)\n",
      "==================================================\n"
     ]
    },
    {
     "name": "stdin",
     "output_type": "stream",
     "text": [
      "Enter 1–4:  1\n",
      "Enter her message:\n",
      " i fucked this dude and then went back to my ex \n"
     ]
    },
    {
     "name": "stdout",
     "output_type": "stream",
     "text": [
      "\n",
      "============================================================\n",
      "📝 Original Message:\n",
      " i fucked this dude and then went back to my ex\n",
      "📊 INTENT ANALYSIS (Temp: 0.2):\n",
      " ## Message Type\n",
      "Boldly provocative, attention-seeking\n",
      "\n",
      "## Likely Tone & Mindset\n",
      "She's likely aiming for a reaction – shock, intrigue, or amusement. There’s a strong desire to be perceived as unapologetically herself and potentially a little rebellious. She's probably seeking validation for her choices, even if subtly.\n",
      "\n",
      "## Subtext / Personality Clues\n",
      "This is a highly unconventional opening line. It indicates a high degree of confidence (or a calculated attempt to project it), a willingness to be blunt, and possibly a playful disregard for social norms. It could also signal a desire for someone who isn’t easily intimidated or offended. There's a strong element of testing the waters – gauging how you’ll react to such directness. She's likely comfortable with sexual topics and isn't afraid of a little risk in dating.\n",
      "\n",
      "## Response Suggestion\n",
      "Acknowledge the boldness without mirroring it directly. A witty, slightly intrigued response that doesn't demand a detailed explanation is best. Something like, \"Well, that’s certainly…a story. Intrigued to hear more (or not, haha).\" This validates her directness while keeping the conversation light.\n",
      "\n",
      "## Spelling / Slang Notes\n",
      "\"Fucked\" is used casually, indicating a comfortable and potentially sexually liberated attitude. The phrasing \"went back to my ex\" is deliberately understated, adding to the unexpected nature of the message. It's a concise way of conveying a shift in relationship status without dwelling on the details.\n",
      "\n",
      " 🚩 RED FLAG DETECTION:\n",
      " Here's the analysis of that message, evaluated through the provided framework:\n",
      "\n",
      "*   **Emotional Instability:** Suggests impulsive behavior & difficulty with emotional consequences, potentially indicating a lack of emotional regulation.\n",
      "*   **Accountability Avoidance:** Blaming/shifting responsibility for actions (\"fucked this dude\") without acknowledging potential consequences.\n",
      "*   **Unresolved Connections:** Returning to an ex implies difficulty in processing past relationships, potentially hindering future growth.\n",
      "*   **Blame Deflection:** Implies a lack of self-reflection regarding the choices made, suggesting difficulty taking responsibility.\n",
      "*   **Attention-Seeking:** The bluntness could be a tactic to elicit a reaction/validation, indicating an attention-seeking tendency.\n",
      "\n",
      "============================================================\n",
      "🎯 STRATEGY (Temp: 0.7):\n",
      "## Best Tone\n",
      "Guarded curiosity\n",
      "\n",
      "## Mirror tone\n",
      "Yes\n",
      "\n",
      "## Escalation of Flirtation\n",
      "Light teasing\n",
      "\n",
      "## Strategy Breakdown\n",
      "Mirror the bluntness with a playful, slightly intrigued response. This tests her boundaries while subtly gauging her emotional maturity; keep it light to avoid over-investment.\n",
      "\n",
      "## Why This Works\n",
      "The mirrored tone assesses if her boldness is genuine confidence or a tactic for attention. Light teasing maintains playful tension without escalating; the goal is to see how she responds to a slightly unexpected, but not overly intense, reaction.\n",
      "\n",
      "## Ending Style\n",
      "Open-ended\n",
      "💬 REPLY OPTIONS (Temp: 0.95):\n",
      "Alright, here are three replies based on that message and the strategy. Let's see where this goes.\n",
      "\n",
      "1.  Whoa. Okay. That’s… a story. 😮‍💨\n",
      "2.  Alright, you’re definitely not boring. Spill. 😉\n",
      "3.  Interesting. So, the ex came back? 👀\n",
      "============================================================\n"
     ]
    }
   ],
   "source": [
    "print(\"=\" * 50)\n",
    "print(\"What do you want to do?\")\n",
    "print(\"1. Generate reply to a message\")\n",
    "print(\"2. Rank my dating profile (Coming Soon)\")\n",
    "print(\"3. Generate a Hinge prompt (Coming Soon)\")\n",
    "print(\"4. Build a conversation context (Coming Soon)\")\n",
    "print(\"=\" * 50)\n",
    "\n",
    "choice = input(\"Enter 1–4: \").strip()\n",
    "\n",
    "if choice == \"1\":\n",
    "    msg = input(\"Enter her message:\\n\").strip()\n",
    "\n",
    "    # Step 1: Analyze intent\n",
    "    analysis = analyze_intent(msg, temp=0.2).strip()\n",
    "\n",
    "    # Step 2: Detect red flags\n",
    "    flags = detect_red_flags(msg).strip()\n",
    "\n",
    "    # Step 3: Display both\n",
    "    print(\"\\n\" + \"=\" * 60)\n",
    "    print(\"📝 Original Message:\\n\", msg)\n",
    "    print(\"📊 INTENT ANALYSIS (Temp: 0.2):\\n\", analysis)\n",
    "    print(\"\\n 🚩 RED FLAG DETECTION:\\n\", flags)\n",
    "\n",
    "    # Step 4: Get dynamic temperatures\n",
    "    strategy_temp, reply_temp = determine_temps(analysis)\n",
    "\n",
    "    # Step 5: Generate strategy with red flag context\n",
    "    \n",
    "    strategy = generate_strategy(analysis, flags, temp=strategy_temp).strip()\n",
    "\n",
    "    # Step 6: Generate reply\n",
    "    drafts = compose_replies(msg, strategy, temp=reply_temp).strip()\n",
    "\n",
    "    # Step 7: Print all results\n",
    "    print(\"\\n\" + \"=\" * 60)\n",
    "    print(\"🎯 STRATEGY (Temp: {}):\\n{}\".format(strategy_temp, strategy))\n",
    "    print(\"💬 REPLY OPTIONS (Temp: {}):\\n{}\".format(reply_temp, drafts))\n",
    "    print(\"=\" * 60)\n",
    "\n",
    "else:\n",
    "    print(\"🟡 This feature isn't built yet, but it's on the roadmap!\")\n"
   ]
  }
 ],
 "metadata": {
  "kernelspec": {
   "display_name": "Python 3 (ipykernel)",
   "language": "python",
   "name": "python3"
  },
  "language_info": {
   "codemirror_mode": {
    "name": "ipython",
    "version": 3
   },
   "file_extension": ".py",
   "mimetype": "text/x-python",
   "name": "python",
   "nbconvert_exporter": "python",
   "pygments_lexer": "ipython3",
   "version": "3.12.7"
  }
 },
 "nbformat": 4,
 "nbformat_minor": 5
}
